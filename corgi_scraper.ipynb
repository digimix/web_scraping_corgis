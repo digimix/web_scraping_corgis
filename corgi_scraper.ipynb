{
 "cells": [
  {
   "cell_type": "code",
   "execution_count": 46,
   "metadata": {},
   "outputs": [],
   "source": [
    "import pandas as pd\n",
    "import urllib.request\n",
    "from collections import Counter\n",
    "from insta_scrape import recent_25_posts, insta_details"
   ]
  },
  {
   "cell_type": "markdown",
   "metadata": {},
   "source": [
    "### Corgis of Instagram!\n",
    "For a fun scraping project, I decided to pull the most recent posts from a bunch of prominent Corgis of Instagram to see their comparative performance and some of the hastags they used to help promote their posts. "
   ]
  },
  {
   "cell_type": "markdown",
   "metadata": {},
   "source": [
    "#### The functions being used do the following:\n",
    "* recent_10_posts: scrapes the most recent 10 Instagram posts and grabs their urls\n",
    "* links_to_details: takes the list of links and returns a list of dictionaries with details for each post, including:\n",
    "    - age - when posted\n",
    "    - comment - initial comment from poster\n",
    "    - likes/views - count of likes or views for photo or video\n",
    "    - link - the original link of the post"
   ]
  },
  {
   "cell_type": "markdown",
   "metadata": {},
   "source": [
    "#### Sneakers (135k followers)"
   ]
  },
  {
   "cell_type": "code",
   "execution_count": 3,
   "metadata": {},
   "outputs": [],
   "source": [
    "sneakers_urls = recent_25_posts('sneakersthecorgi')"
   ]
  },
  {
   "cell_type": "code",
   "execution_count": 5,
   "metadata": {},
   "outputs": [
    {
     "name": "stdout",
     "output_type": "stream",
     "text": [
      "['https://www.instagram.com/p/BxY3nKoHKbV/', 'https://www.instagram.com/p/BxC7C0hhbFz/', 'https://www.instagram.com/p/Bw9uXwCh8KG/', 'https://www.instagram.com/p/Bw2EuhcBMQN/', 'https://www.instagram.com/p/Bwkj9-AhZqp/', 'https://www.instagram.com/p/Bwh-lzQB_T7/', 'https://www.instagram.com/p/BwddyHrBsM2/', 'https://www.instagram.com/p/BwV3f2UhVkf/', 'https://www.instagram.com/p/BwNyX_chT7L/', 'https://www.instagram.com/p/BwLLNjhh1Y7/', 'https://www.instagram.com/p/BwIzjUzBzXL/', 'https://www.instagram.com/p/BwF8r-Uhtvi/', 'https://www.instagram.com/p/BwDkrWehN6J/', 'https://www.instagram.com/p/Bv-oUTiBfTE/', 'https://www.instagram.com/p/Bv72GgfBB3M/', 'https://www.instagram.com/p/Bv2lW1_BYje/', 'https://www.instagram.com/p/Bvz8ZgMBokH/', 'https://www.instagram.com/p/BvxjvP4gOS_/', 'https://www.instagram.com/p/BvuIBdlhsYA/', 'https://www.instagram.com/p/BvryFSbB3fh/', 'https://www.instagram.com/p/Bvm_7KLhhVA/', 'https://www.instagram.com/p/Bvh6O-LhRKJ/', 'https://www.instagram.com/p/BvfNb8rBS8-/', 'https://www.instagram.com/p/Bvc_iYoBj5t/', 'https://www.instagram.com/p/BvaVEdYhPWL/']\n"
     ]
    }
   ],
   "source": [
    "print(sneakers_urls)"
   ]
  },
  {
   "cell_type": "code",
   "execution_count": 7,
   "metadata": {},
   "outputs": [],
   "source": [
    "sneakers_post_info = insta_details(sneakers_urls)"
   ]
  },
  {
   "cell_type": "code",
   "execution_count": 15,
   "metadata": {},
   "outputs": [],
   "source": [
    "sneakers = pd.DataFrame(sneakers_post_info)\n",
    "sneakers['hashtags'] = sneakers['comment'].apply(lambda x: find_hashtags(x))"
   ]
  },
  {
   "cell_type": "code",
   "execution_count": 16,
   "metadata": {},
   "outputs": [
    {
     "data": {
      "text/html": [
       "<div>\n",
       "<style scoped>\n",
       "    .dataframe tbody tr th:only-of-type {\n",
       "        vertical-align: middle;\n",
       "    }\n",
       "\n",
       "    .dataframe tbody tr th {\n",
       "        vertical-align: top;\n",
       "    }\n",
       "\n",
       "    .dataframe thead th {\n",
       "        text-align: right;\n",
       "    }\n",
       "</style>\n",
       "<table border=\"1\" class=\"dataframe\">\n",
       "  <thead>\n",
       "    <tr style=\"text-align: right;\">\n",
       "      <th></th>\n",
       "      <th>age</th>\n",
       "      <th>comment</th>\n",
       "      <th>likes/views</th>\n",
       "      <th>link</th>\n",
       "      <th>hashtags</th>\n",
       "    </tr>\n",
       "  </thead>\n",
       "  <tbody>\n",
       "    <tr>\n",
       "      <th>0</th>\n",
       "      <td>1 DAY AGO</td>\n",
       "      <td>sneakersthecorgi\\nYou could give your mom frag...</td>\n",
       "      <td>3,074 likes</td>\n",
       "      <td>https://www.instagram.com/p/BxY3nKoHKbV/</td>\n",
       "      <td>[#HappyMothersDay]</td>\n",
       "    </tr>\n",
       "    <tr>\n",
       "      <th>1</th>\n",
       "      <td>MAY 4</td>\n",
       "      <td>sneakersthecorgi\\nMay you chew your toys with ...</td>\n",
       "      <td>2,438 likes</td>\n",
       "      <td>https://www.instagram.com/p/BxC7C0hhbFz/</td>\n",
       "      <td>[#MayThe, #sneakersthecorgi]</td>\n",
       "    </tr>\n",
       "    <tr>\n",
       "      <th>2</th>\n",
       "      <td>MAY 2</td>\n",
       "      <td>sneakersthecorgi\\nCaption this photo.\\n#sneake...</td>\n",
       "      <td>4,452 likes</td>\n",
       "      <td>https://www.instagram.com/p/Bw9uXwCh8KG/</td>\n",
       "      <td>[#sneakersthecorgi]</td>\n",
       "    </tr>\n",
       "    <tr>\n",
       "      <th>3</th>\n",
       "      <td>APRIL 29</td>\n",
       "      <td>sneakersthecorgi\\nI hereby declare that Monday...</td>\n",
       "      <td>4,096 likes</td>\n",
       "      <td>https://www.instagram.com/p/Bw2EuhcBMQN/</td>\n",
       "      <td>[#sneakersthecorgi]</td>\n",
       "    </tr>\n",
       "    <tr>\n",
       "      <th>4</th>\n",
       "      <td>APRIL 22</td>\n",
       "      <td>sneakersthecorgi\\nSTILL my favorite planet. 🌎 ...</td>\n",
       "      <td>2,045 likes</td>\n",
       "      <td>https://www.instagram.com/p/Bwkj9-AhZqp/</td>\n",
       "      <td>[#HappyEarthDay, #sneakersthecorgi]</td>\n",
       "    </tr>\n",
       "  </tbody>\n",
       "</table>\n",
       "</div>"
      ],
      "text/plain": [
       "         age                                            comment  likes/views  \\\n",
       "0  1 DAY AGO  sneakersthecorgi\\nYou could give your mom frag...  3,074 likes   \n",
       "1      MAY 4  sneakersthecorgi\\nMay you chew your toys with ...  2,438 likes   \n",
       "2      MAY 2  sneakersthecorgi\\nCaption this photo.\\n#sneake...  4,452 likes   \n",
       "3   APRIL 29  sneakersthecorgi\\nI hereby declare that Monday...  4,096 likes   \n",
       "4   APRIL 22  sneakersthecorgi\\nSTILL my favorite planet. 🌎 ...  2,045 likes   \n",
       "\n",
       "                                       link  \\\n",
       "0  https://www.instagram.com/p/BxY3nKoHKbV/   \n",
       "1  https://www.instagram.com/p/BxC7C0hhbFz/   \n",
       "2  https://www.instagram.com/p/Bw9uXwCh8KG/   \n",
       "3  https://www.instagram.com/p/Bw2EuhcBMQN/   \n",
       "4  https://www.instagram.com/p/Bwkj9-AhZqp/   \n",
       "\n",
       "                              hashtags  \n",
       "0                   [#HappyMothersDay]  \n",
       "1         [#MayThe, #sneakersthecorgi]  \n",
       "2                  [#sneakersthecorgi]  \n",
       "3                  [#sneakersthecorgi]  \n",
       "4  [#HappyEarthDay, #sneakersthecorgi]  "
      ]
     },
     "execution_count": 16,
     "metadata": {},
     "output_type": "execute_result"
    }
   ],
   "source": [
    "sneakers.head()"
   ]
  },
  {
   "cell_type": "markdown",
   "metadata": {},
   "source": [
    "#### Ralph the Corgi (315k followers)"
   ]
  },
  {
   "cell_type": "code",
   "execution_count": 36,
   "metadata": {},
   "outputs": [],
   "source": [
    "ralph_urls = recent_25_posts('ralphthecorgi')"
   ]
  },
  {
   "cell_type": "code",
   "execution_count": 37,
   "metadata": {},
   "outputs": [],
   "source": [
    "ralph_post_info = insta_details(ralph_urls)"
   ]
  },
  {
   "cell_type": "code",
   "execution_count": 65,
   "metadata": {},
   "outputs": [
    {
     "data": {
      "text/html": [
       "<div>\n",
       "<style scoped>\n",
       "    .dataframe tbody tr th:only-of-type {\n",
       "        vertical-align: middle;\n",
       "    }\n",
       "\n",
       "    .dataframe tbody tr th {\n",
       "        vertical-align: top;\n",
       "    }\n",
       "\n",
       "    .dataframe thead th {\n",
       "        text-align: right;\n",
       "    }\n",
       "</style>\n",
       "<table border=\"1\" class=\"dataframe\">\n",
       "  <thead>\n",
       "    <tr style=\"text-align: right;\">\n",
       "      <th></th>\n",
       "      <th>age</th>\n",
       "      <th>comment</th>\n",
       "      <th>likes/views</th>\n",
       "      <th>link</th>\n",
       "      <th>hashtags</th>\n",
       "    </tr>\n",
       "  </thead>\n",
       "  <tbody>\n",
       "    <tr>\n",
       "      <th>0</th>\n",
       "      <td>1 DAY AGO</td>\n",
       "      <td>ralphthecorgi\\nI heard that moms LOVE spa trea...</td>\n",
       "      <td>11,890 likes</td>\n",
       "      <td>https://www.instagram.com/p/BxYTUpoAFST/</td>\n",
       "      <td>[#NothingLikeAGoodTasteBudExfoliation, #Always...</td>\n",
       "    </tr>\n",
       "    <tr>\n",
       "      <th>1</th>\n",
       "      <td>4 DAYS AGO</td>\n",
       "      <td>ralphthecorgi\\nWARNING: if you look too deeply...</td>\n",
       "      <td>14,085 likes</td>\n",
       "      <td>https://www.instagram.com/p/BxQj4jWgTAC/</td>\n",
       "      <td>[#CantSayIDidntWarnYa, #TakeoverByGeorge, #Gor...</td>\n",
       "    </tr>\n",
       "    <tr>\n",
       "      <th>2</th>\n",
       "      <td>MAY 5</td>\n",
       "      <td>ralphthecorgi\\nThat time I drank Georgie’s bee...</td>\n",
       "      <td>11,985 likes</td>\n",
       "      <td>https://www.instagram.com/p/BxF_w57AtOX/</td>\n",
       "      <td>[#CorgoDeMayo, #OldieButAGoodie, #RalphandGeorge]</td>\n",
       "    </tr>\n",
       "    <tr>\n",
       "      <th>3</th>\n",
       "      <td>MAY 3</td>\n",
       "      <td>ralphthecorgi\\n[Tap for Sound] We were born fo...</td>\n",
       "      <td>17,514 views</td>\n",
       "      <td>https://www.instagram.com/p/BxARXIwAe16/</td>\n",
       "      <td>[#LeftCheekRightCheek, #RalphandGeorge]</td>\n",
       "    </tr>\n",
       "    <tr>\n",
       "      <th>4</th>\n",
       "      <td>APRIL 30</td>\n",
       "      <td>ralphthecorgi\\nGeorge be like: I find a loaf, ...</td>\n",
       "      <td>6,954 likes</td>\n",
       "      <td>https://www.instagram.com/p/Bw4rYNTAU2k/</td>\n",
       "      <td>[#TakeoverByGeorge, #GorgeousGeorge, #Ralphand...</td>\n",
       "    </tr>\n",
       "  </tbody>\n",
       "</table>\n",
       "</div>"
      ],
      "text/plain": [
       "          age                                            comment  \\\n",
       "0   1 DAY AGO  ralphthecorgi\\nI heard that moms LOVE spa trea...   \n",
       "1  4 DAYS AGO  ralphthecorgi\\nWARNING: if you look too deeply...   \n",
       "2       MAY 5  ralphthecorgi\\nThat time I drank Georgie’s bee...   \n",
       "3       MAY 3  ralphthecorgi\\n[Tap for Sound] We were born fo...   \n",
       "4    APRIL 30  ralphthecorgi\\nGeorge be like: I find a loaf, ...   \n",
       "\n",
       "    likes/views                                      link  \\\n",
       "0  11,890 likes  https://www.instagram.com/p/BxYTUpoAFST/   \n",
       "1  14,085 likes  https://www.instagram.com/p/BxQj4jWgTAC/   \n",
       "2  11,985 likes  https://www.instagram.com/p/BxF_w57AtOX/   \n",
       "3  17,514 views  https://www.instagram.com/p/BxARXIwAe16/   \n",
       "4   6,954 likes  https://www.instagram.com/p/Bw4rYNTAU2k/   \n",
       "\n",
       "                                            hashtags  \n",
       "0  [#NothingLikeAGoodTasteBudExfoliation, #Always...  \n",
       "1  [#CantSayIDidntWarnYa, #TakeoverByGeorge, #Gor...  \n",
       "2  [#CorgoDeMayo, #OldieButAGoodie, #RalphandGeorge]  \n",
       "3            [#LeftCheekRightCheek, #RalphandGeorge]  \n",
       "4  [#TakeoverByGeorge, #GorgeousGeorge, #Ralphand...  "
      ]
     },
     "execution_count": 65,
     "metadata": {},
     "output_type": "execute_result"
    }
   ],
   "source": [
    "ralph = pd.DataFrame(ralph_post_info)\n",
    "ralph['hashtags'] = ralph['comment'].apply(lambda x: find_hashtags(x))\n",
    "ralph.head()"
   ]
  },
  {
   "cell_type": "markdown",
   "metadata": {},
   "source": [
    "#### Geordi La Corgi (393k followers)"
   ]
  },
  {
   "cell_type": "code",
   "execution_count": 39,
   "metadata": {},
   "outputs": [],
   "source": [
    "lacorgi_urls = recent_25_posts('lacorgi')"
   ]
  },
  {
   "cell_type": "code",
   "execution_count": 40,
   "metadata": {},
   "outputs": [],
   "source": [
    "lacorgi_post_info = insta_details(lacorgi_urls)"
   ]
  },
  {
   "cell_type": "code",
   "execution_count": 67,
   "metadata": {},
   "outputs": [
    {
     "data": {
      "text/html": [
       "<div>\n",
       "<style scoped>\n",
       "    .dataframe tbody tr th:only-of-type {\n",
       "        vertical-align: middle;\n",
       "    }\n",
       "\n",
       "    .dataframe tbody tr th {\n",
       "        vertical-align: top;\n",
       "    }\n",
       "\n",
       "    .dataframe thead th {\n",
       "        text-align: right;\n",
       "    }\n",
       "</style>\n",
       "<table border=\"1\" class=\"dataframe\">\n",
       "  <thead>\n",
       "    <tr style=\"text-align: right;\">\n",
       "      <th></th>\n",
       "      <th>age</th>\n",
       "      <th>comment</th>\n",
       "      <th>likes/views</th>\n",
       "      <th>link</th>\n",
       "      <th>hashtags</th>\n",
       "    </tr>\n",
       "  </thead>\n",
       "  <tbody>\n",
       "    <tr>\n",
       "      <th>0</th>\n",
       "      <td>1 HOUR AGO</td>\n",
       "      <td>lacorgi\\nGeordi rates our new bed a solid 💯⁣⁣\\...</td>\n",
       "      <td>6,924 likes</td>\n",
       "      <td>https://www.instagram.com/p/BxczbKag_kX/</td>\n",
       "      <td>[#avocadomattress]</td>\n",
       "    </tr>\n",
       "    <tr>\n",
       "      <th>1</th>\n",
       "      <td>4 DAYS AGO</td>\n",
       "      <td>lacorgi\\nHe stood like this for almost 2 whole...</td>\n",
       "      <td>13,443 likes</td>\n",
       "      <td>https://www.instagram.com/p/BxSSReLg3ox/</td>\n",
       "      <td>[#corgilife]</td>\n",
       "    </tr>\n",
       "    <tr>\n",
       "      <th>2</th>\n",
       "      <td>7 DAYS AGO</td>\n",
       "      <td>lacorgi\\nThe golden corgi ratio: ears &amp; stumps...</td>\n",
       "      <td>16,150 likes</td>\n",
       "      <td>https://www.instagram.com/p/BxJIFKGAO7s/</td>\n",
       "      <td>[]</td>\n",
       "    </tr>\n",
       "    <tr>\n",
       "      <th>3</th>\n",
       "      <td>MAY 2</td>\n",
       "      <td>lacorgi\\nTaking name suggestions for our new k...</td>\n",
       "      <td>16,102 likes</td>\n",
       "      <td>https://www.instagram.com/p/Bw94Nz4Bibk/</td>\n",
       "      <td>[]</td>\n",
       "    </tr>\n",
       "    <tr>\n",
       "      <th>4</th>\n",
       "      <td>APRIL 30</td>\n",
       "      <td>lacorgi\\nHappy National Bubble Tea Day!\\nEnjoy...</td>\n",
       "      <td>9,487 likes</td>\n",
       "      <td>https://www.instagram.com/p/Bw5GYlYggp4/</td>\n",
       "      <td>[]</td>\n",
       "    </tr>\n",
       "  </tbody>\n",
       "</table>\n",
       "</div>"
      ],
      "text/plain": [
       "          age                                            comment  \\\n",
       "0  1 HOUR AGO  lacorgi\\nGeordi rates our new bed a solid 💯⁣⁣\\...   \n",
       "1  4 DAYS AGO  lacorgi\\nHe stood like this for almost 2 whole...   \n",
       "2  7 DAYS AGO  lacorgi\\nThe golden corgi ratio: ears & stumps...   \n",
       "3       MAY 2  lacorgi\\nTaking name suggestions for our new k...   \n",
       "4    APRIL 30  lacorgi\\nHappy National Bubble Tea Day!\\nEnjoy...   \n",
       "\n",
       "    likes/views                                      link            hashtags  \n",
       "0   6,924 likes  https://www.instagram.com/p/BxczbKag_kX/  [#avocadomattress]  \n",
       "1  13,443 likes  https://www.instagram.com/p/BxSSReLg3ox/        [#corgilife]  \n",
       "2  16,150 likes  https://www.instagram.com/p/BxJIFKGAO7s/                  []  \n",
       "3  16,102 likes  https://www.instagram.com/p/Bw94Nz4Bibk/                  []  \n",
       "4   9,487 likes  https://www.instagram.com/p/Bw5GYlYggp4/                  []  "
      ]
     },
     "execution_count": 67,
     "metadata": {},
     "output_type": "execute_result"
    }
   ],
   "source": [
    "lacorgi = pd.DataFrame(lacorgi_post_info)\n",
    "lacorgi['hashtags'] = lacorgi['comment'].apply(lambda x: find_hashtags(x))\n",
    "lacorgi.head()"
   ]
  },
  {
   "cell_type": "markdown",
   "metadata": {},
   "source": [
    "#### Tibby (242k followers)"
   ]
  },
  {
   "cell_type": "code",
   "execution_count": 42,
   "metadata": {},
   "outputs": [],
   "source": [
    "tibby_urls = recent_25_posts('tibbythecorgi')"
   ]
  },
  {
   "cell_type": "code",
   "execution_count": 43,
   "metadata": {},
   "outputs": [],
   "source": [
    "tibby_post_info = insta_details(tibby_urls)  "
   ]
  },
  {
   "cell_type": "code",
   "execution_count": 68,
   "metadata": {},
   "outputs": [
    {
     "data": {
      "text/html": [
       "<div>\n",
       "<style scoped>\n",
       "    .dataframe tbody tr th:only-of-type {\n",
       "        vertical-align: middle;\n",
       "    }\n",
       "\n",
       "    .dataframe tbody tr th {\n",
       "        vertical-align: top;\n",
       "    }\n",
       "\n",
       "    .dataframe thead th {\n",
       "        text-align: right;\n",
       "    }\n",
       "</style>\n",
       "<table border=\"1\" class=\"dataframe\">\n",
       "  <thead>\n",
       "    <tr style=\"text-align: right;\">\n",
       "      <th></th>\n",
       "      <th>age</th>\n",
       "      <th>comment</th>\n",
       "      <th>likes/views</th>\n",
       "      <th>link</th>\n",
       "      <th>hashtags</th>\n",
       "    </tr>\n",
       "  </thead>\n",
       "  <tbody>\n",
       "    <tr>\n",
       "      <th>0</th>\n",
       "      <td>2 DAYS AGO</td>\n",
       "      <td>tibbythecorgi\\nMe When I See Free Samples 😲😲 #...</td>\n",
       "      <td>21,327 views</td>\n",
       "      <td>https://www.instagram.com/p/BxVkb9jHSGE/</td>\n",
       "      <td>[#WouldYouLikeToTryASampleOfThis, #FurkIDontCa...</td>\n",
       "    </tr>\n",
       "    <tr>\n",
       "      <th>1</th>\n",
       "      <td>6 DAYS AGO</td>\n",
       "      <td>tibbythecorgi\\nIt’s Exhausting Being This Furb...</td>\n",
       "      <td>8,741 likes</td>\n",
       "      <td>https://www.instagram.com/p/BxLhuHPHYjI/</td>\n",
       "      <td>[#SheNeedsHerBootyIMeanBeautyRest, #LookAtHerL...</td>\n",
       "    </tr>\n",
       "    <tr>\n",
       "      <th>2</th>\n",
       "      <td>MAY 5</td>\n",
       "      <td>tibbythecorgi\\nTibby Doing Her Best Drogon Imp...</td>\n",
       "      <td>9,731 likes</td>\n",
       "      <td>https://www.instagram.com/p/BxGhGLzHpNT/</td>\n",
       "      <td>[#ThatIsOneDerpyDragon, #GoT, #ThatThirdPhotoK...</td>\n",
       "    </tr>\n",
       "    <tr>\n",
       "      <th>3</th>\n",
       "      <td>MAY 3</td>\n",
       "      <td>tibbythecorgi\\nMe Waiting For The Clock To Hit...</td>\n",
       "      <td>11,296 likes</td>\n",
       "      <td>https://www.instagram.com/p/BxAvfApHf-9/</td>\n",
       "      <td>[#SorryICantDoThatPowerpoint, #ImBusyAlready, ...</td>\n",
       "    </tr>\n",
       "    <tr>\n",
       "      <th>4</th>\n",
       "      <td>MAY 2</td>\n",
       "      <td>tibbythecorgi\\nCan’t Say No To This Puppy Face...</td>\n",
       "      <td>6,245 likes</td>\n",
       "      <td>https://www.instagram.com/p/Bw-8B8On2iq/</td>\n",
       "      <td>[#LookAtHer, #ABallOfSassFromTheBeginning, #TBT]</td>\n",
       "    </tr>\n",
       "  </tbody>\n",
       "</table>\n",
       "</div>"
      ],
      "text/plain": [
       "          age                                            comment  \\\n",
       "0  2 DAYS AGO  tibbythecorgi\\nMe When I See Free Samples 😲😲 #...   \n",
       "1  6 DAYS AGO  tibbythecorgi\\nIt’s Exhausting Being This Furb...   \n",
       "2       MAY 5  tibbythecorgi\\nTibby Doing Her Best Drogon Imp...   \n",
       "3       MAY 3  tibbythecorgi\\nMe Waiting For The Clock To Hit...   \n",
       "4       MAY 2  tibbythecorgi\\nCan’t Say No To This Puppy Face...   \n",
       "\n",
       "    likes/views                                      link  \\\n",
       "0  21,327 views  https://www.instagram.com/p/BxVkb9jHSGE/   \n",
       "1   8,741 likes  https://www.instagram.com/p/BxLhuHPHYjI/   \n",
       "2   9,731 likes  https://www.instagram.com/p/BxGhGLzHpNT/   \n",
       "3  11,296 likes  https://www.instagram.com/p/BxAvfApHf-9/   \n",
       "4   6,245 likes  https://www.instagram.com/p/Bw-8B8On2iq/   \n",
       "\n",
       "                                            hashtags  \n",
       "0  [#WouldYouLikeToTryASampleOfThis, #FurkIDontCa...  \n",
       "1  [#SheNeedsHerBootyIMeanBeautyRest, #LookAtHerL...  \n",
       "2  [#ThatIsOneDerpyDragon, #GoT, #ThatThirdPhotoK...  \n",
       "3  [#SorryICantDoThatPowerpoint, #ImBusyAlready, ...  \n",
       "4   [#LookAtHer, #ABallOfSassFromTheBeginning, #TBT]  "
      ]
     },
     "execution_count": 68,
     "metadata": {},
     "output_type": "execute_result"
    }
   ],
   "source": [
    "tibby = pd.DataFrame(tibby_post_info)\n",
    "tibby['hashtags'] = tibby['comment'].apply(lambda x: find_hashtags(x))\n",
    "tibby.head()"
   ]
  },
  {
   "cell_type": "markdown",
   "metadata": {},
   "source": [
    "#### Winston, The White Corgi (232k followers)"
   ]
  },
  {
   "cell_type": "code",
   "execution_count": 51,
   "metadata": {},
   "outputs": [],
   "source": [
    "winston_urls = recent_25_posts('winstonthewhitecorgi')"
   ]
  },
  {
   "cell_type": "code",
   "execution_count": 54,
   "metadata": {},
   "outputs": [],
   "source": [
    "winston_post_info = insta_details(winston_urls)"
   ]
  },
  {
   "cell_type": "code",
   "execution_count": 69,
   "metadata": {},
   "outputs": [
    {
     "data": {
      "text/html": [
       "<div>\n",
       "<style scoped>\n",
       "    .dataframe tbody tr th:only-of-type {\n",
       "        vertical-align: middle;\n",
       "    }\n",
       "\n",
       "    .dataframe tbody tr th {\n",
       "        vertical-align: top;\n",
       "    }\n",
       "\n",
       "    .dataframe thead th {\n",
       "        text-align: right;\n",
       "    }\n",
       "</style>\n",
       "<table border=\"1\" class=\"dataframe\">\n",
       "  <thead>\n",
       "    <tr style=\"text-align: right;\">\n",
       "      <th></th>\n",
       "      <th>age</th>\n",
       "      <th>comment</th>\n",
       "      <th>likes/views</th>\n",
       "      <th>link</th>\n",
       "      <th>hashtags</th>\n",
       "    </tr>\n",
       "  </thead>\n",
       "  <tbody>\n",
       "    <tr>\n",
       "      <th>0</th>\n",
       "      <td>1 DAY AGO</td>\n",
       "      <td>winstonthewhitecorgi\\nGrandmas came to visit N...</td>\n",
       "      <td>12,277 likes</td>\n",
       "      <td>https://www.instagram.com/p/BxYB8rZH-WR/</td>\n",
       "      <td>[#MothersDay, #HappyMothersDay]</td>\n",
       "    </tr>\n",
       "    <tr>\n",
       "      <th>1</th>\n",
       "      <td>5 DAYS AGO</td>\n",
       "      <td>winstonthewhitecorgi\\n🔈CORGI B #winstonsroadto...</td>\n",
       "      <td>34,972 views</td>\n",
       "      <td>https://www.instagram.com/p/BxOLD2enM-h/</td>\n",
       "      <td>[#winstonsroadtofetch]</td>\n",
       "    </tr>\n",
       "    <tr>\n",
       "      <th>2</th>\n",
       "      <td>MAY 4</td>\n",
       "      <td>winstonthewhitecorgi\\nHappy #May4th from your ...</td>\n",
       "      <td>30,025 views</td>\n",
       "      <td>https://www.instagram.com/p/BxCwBIsnyTi/</td>\n",
       "      <td>[#May, #maythe, #starwars]</td>\n",
       "    </tr>\n",
       "    <tr>\n",
       "      <th>3</th>\n",
       "      <td>MAY 3</td>\n",
       "      <td>winstonthewhitecorgi\\n🎥🍿😴 #friyay</td>\n",
       "      <td>6,813 likes</td>\n",
       "      <td>https://www.instagram.com/p/BxBfdXbHE_H/</td>\n",
       "      <td>[#friyay]</td>\n",
       "    </tr>\n",
       "    <tr>\n",
       "      <th>4</th>\n",
       "      <td>APRIL 30</td>\n",
       "      <td>winstonthewhitecorgi\\nAre you scrolling throug...</td>\n",
       "      <td>8,890 likes</td>\n",
       "      <td>https://www.instagram.com/p/Bw5nHdinPfw/</td>\n",
       "      <td>[#MothersDay, #venusetfleur]</td>\n",
       "    </tr>\n",
       "  </tbody>\n",
       "</table>\n",
       "</div>"
      ],
      "text/plain": [
       "          age                                            comment  \\\n",
       "0   1 DAY AGO  winstonthewhitecorgi\\nGrandmas came to visit N...   \n",
       "1  5 DAYS AGO  winstonthewhitecorgi\\n🔈CORGI B #winstonsroadto...   \n",
       "2       MAY 4  winstonthewhitecorgi\\nHappy #May4th from your ...   \n",
       "3       MAY 3                  winstonthewhitecorgi\\n🎥🍿😴 #friyay   \n",
       "4    APRIL 30  winstonthewhitecorgi\\nAre you scrolling throug...   \n",
       "\n",
       "    likes/views                                      link  \\\n",
       "0  12,277 likes  https://www.instagram.com/p/BxYB8rZH-WR/   \n",
       "1  34,972 views  https://www.instagram.com/p/BxOLD2enM-h/   \n",
       "2  30,025 views  https://www.instagram.com/p/BxCwBIsnyTi/   \n",
       "3   6,813 likes  https://www.instagram.com/p/BxBfdXbHE_H/   \n",
       "4   8,890 likes  https://www.instagram.com/p/Bw5nHdinPfw/   \n",
       "\n",
       "                          hashtags  \n",
       "0  [#MothersDay, #HappyMothersDay]  \n",
       "1           [#winstonsroadtofetch]  \n",
       "2       [#May, #maythe, #starwars]  \n",
       "3                        [#friyay]  \n",
       "4     [#MothersDay, #venusetfleur]  "
      ]
     },
     "execution_count": 69,
     "metadata": {},
     "output_type": "execute_result"
    }
   ],
   "source": [
    "winston = pd.DataFrame(winston_post_info)\n",
    "winston['hashtags'] = winston['comment'].apply(lambda x: find_hashtags(x))\n",
    "winston.head()"
   ]
  },
  {
   "cell_type": "markdown",
   "metadata": {},
   "source": [
    "### Looking at all hashtags across corgis:"
   ]
  },
  {
   "cell_type": "code",
   "execution_count": 56,
   "metadata": {},
   "outputs": [],
   "source": [
    "def all_hashtags(col):\n",
    "    all_h = []\n",
    "    for sublist in col:\n",
    "        for item in sublist:\n",
    "            all_h.append(item)\n",
    "    return all_h"
   ]
  },
  {
   "cell_type": "code",
   "execution_count": 75,
   "metadata": {},
   "outputs": [
    {
     "name": "stdout",
     "output_type": "stream",
     "text": [
      "#sneakersthecorgi: 24\n",
      "#shopsneakersthecorgi: 6\n",
      "#TakeoverByGeorge: 6\n",
      "#RalphandGeorge: 10\n",
      "#winstonsroadtofetch: 10\n"
     ]
    }
   ],
   "source": [
    "all_corgi_hastags = all_hashtags(sneakers['hashtags']) + all_hashtags(ralph['hashtags']) + \\\n",
    "                        all_hashtags(lacorgi['hashtags']) + all_hashtags(winston['hashtags']) + all_hashtags(tibby['hashtags'])\n",
    "\n",
    "hashtag_values = dict(Counter(all_corgi_hastags))\n",
    "for k,v in hashtag_values.items():\n",
    "    if v > 5:\n",
    "        print(k + \": \" + str(v))"
   ]
  },
  {
   "cell_type": "markdown",
   "metadata": {},
   "source": [
    "Temporarily saving to CSV:"
   ]
  },
  {
   "cell_type": "code",
   "execution_count": 76,
   "metadata": {},
   "outputs": [],
   "source": [
    "sneakers.to_csv('csv/sneakers.csv')\n",
    "lacorgi.to_csv('csv/lacorgi.csv')\n",
    "ralph.to_csv('csv/ralph.csv')\n",
    "tibby.to_csv('csv/tibby.csv')\n",
    "winston.to_csv('csv/winston.csv')"
   ]
  },
  {
   "cell_type": "markdown",
   "metadata": {},
   "source": [
    "### Bonus: How to extract the photo:"
   ]
  },
  {
   "cell_type": "code",
   "execution_count": 27,
   "metadata": {},
   "outputs": [
    {
     "data": {
      "text/plain": [
       "('sneakers_1.jpg', <http.client.HTTPMessage at 0x1045b4390>)"
      ]
     },
     "execution_count": 27,
     "metadata": {},
     "output_type": "execute_result"
    }
   ],
   "source": [
    "browser = Chrome()\n",
    "corg = browser.get(sneakers_urls[1])\n",
    "img = '//*[@id=\"react-root\"]/section/main/div/div/article/div[1]/div/div/div[1]/div[1]/img'\n",
    "# The srcset attribut contains 3 different links of different sizes, the firth being 640w\n",
    "image_1 = browser.find_element_by_xpath(img).get_attribute('srcset').split(' ')[0]\n",
    "# Exporting the photo:\n",
    "#urllib.request.urlretrieve(image_1, \"sneakers_1.jpg\")"
   ]
  }
 ],
 "metadata": {
  "kernelspec": {
   "display_name": "Python 3",
   "language": "python",
   "name": "python3"
  },
  "language_info": {
   "codemirror_mode": {
    "name": "ipython",
    "version": 3
   },
   "file_extension": ".py",
   "mimetype": "text/x-python",
   "name": "python",
   "nbconvert_exporter": "python",
   "pygments_lexer": "ipython3",
   "version": "3.6.6"
  }
 },
 "nbformat": 4,
 "nbformat_minor": 2
}
